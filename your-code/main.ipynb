{
 "cells": [
  {
   "cell_type": "markdown",
   "metadata": {},
   "source": [
    "# Intrduction to NumPy\n",
    "\n",
    "\n",
    "#### 1. Import NumPy under the name np."
   ]
  },
  {
   "cell_type": "code",
   "execution_count": 2,
   "metadata": {},
   "outputs": [],
   "source": [
    "# your code here\n",
    "import numpy as np "
   ]
  },
  {
   "cell_type": "markdown",
   "metadata": {},
   "source": [
    "#### 2. Print your NumPy version."
   ]
  },
  {
   "cell_type": "code",
   "execution_count": 3,
   "metadata": {},
   "outputs": [
    {
     "name": "stdout",
     "output_type": "stream",
     "text": [
      "1.21.5\n"
     ]
    }
   ],
   "source": [
    "# your code here\n",
    "\n",
    "print(np.__version__)"
   ]
  },
  {
   "cell_type": "markdown",
   "metadata": {},
   "source": [
    "#### 3. Generate a 2x3x5 3-dimensional array with random values. Assign the array to variable *a*.\n",
    "**Challenge**: there are at least three easy ways that use numpy to generate random arrays. How many ways can you find?"
   ]
  },
  {
   "cell_type": "code",
   "execution_count": 6,
   "metadata": {},
   "outputs": [
    {
     "data": {
      "text/plain": [
       "array([[[0.28116064, 0.81020849, 0.6678058 , 0.4901688 , 0.88109909],\n",
       "        [0.73521561, 0.44114682, 0.9116241 , 0.05914448, 0.90301387],\n",
       "        [0.47387656, 0.36161979, 0.35716125, 0.04269473, 0.583833  ]],\n",
       "\n",
       "       [[0.0609455 , 0.0121095 , 0.98038992, 0.28153741, 0.900587  ],\n",
       "        [0.16169308, 0.97387413, 0.95079972, 0.88625619, 0.27560733],\n",
       "        [0.95884168, 0.5912912 , 0.59253316, 0.10375391, 0.96947028]]])"
      ]
     },
     "execution_count": 6,
     "metadata": {},
     "output_type": "execute_result"
    }
   ],
   "source": [
    "# Method 1\n",
    "a = np.random.random(size=(2,3,5))\n",
    "a"
   ]
  },
  {
   "cell_type": "code",
   "execution_count": 15,
   "metadata": {},
   "outputs": [
    {
     "data": {
      "text/plain": [
       "array([[[ 58,  25, 171,  38, 133],\n",
       "        [  3,  68,  90, 102,  45],\n",
       "        [102,  51,  20, 190, 151]],\n",
       "\n",
       "       [[  6,  24,  35, 129,   9],\n",
       "        [131, 103, 148,  74, 181],\n",
       "        [ 65,  28,  63,  59, 117]]])"
      ]
     },
     "execution_count": 15,
     "metadata": {},
     "output_type": "execute_result"
    }
   ],
   "source": [
    "# Method 2\n",
    "a1 = np.random.randint(0,200,size=(2,3,5))\n",
    "a1"
   ]
  },
  {
   "cell_type": "code",
   "execution_count": 16,
   "metadata": {},
   "outputs": [
    {
     "data": {
      "text/plain": [
       "array([[[0.50131634, 0.75412477, 0.18480161, 0.52852557, 0.3942796 ],\n",
       "        [0.5325785 , 0.43566257, 0.24750063, 0.73306582, 0.27864661],\n",
       "        [0.0623514 , 0.3695248 , 0.35855078, 0.02741781, 0.16715968]],\n",
       "\n",
       "       [[0.77165695, 0.55186425, 0.84710737, 0.81801   , 0.24834856],\n",
       "        [0.80773455, 0.90142555, 0.58040044, 0.31253842, 0.84741786],\n",
       "        [0.608761  , 0.64116684, 0.80275281, 0.66726996, 0.42367079]]])"
      ]
     },
     "execution_count": 16,
     "metadata": {},
     "output_type": "execute_result"
    }
   ],
   "source": [
    "# Method 3\n",
    "a2 = np.random.rand(2,3,5)\n",
    "a2"
   ]
  },
  {
   "cell_type": "markdown",
   "metadata": {},
   "source": [
    "#### 4. Print *a*.\n"
   ]
  },
  {
   "cell_type": "code",
   "execution_count": 9,
   "metadata": {},
   "outputs": [
    {
     "name": "stdout",
     "output_type": "stream",
     "text": [
      "[[[0.28116064 0.81020849 0.6678058  0.4901688  0.88109909]\n",
      "  [0.73521561 0.44114682 0.9116241  0.05914448 0.90301387]\n",
      "  [0.47387656 0.36161979 0.35716125 0.04269473 0.583833  ]]\n",
      "\n",
      " [[0.0609455  0.0121095  0.98038992 0.28153741 0.900587  ]\n",
      "  [0.16169308 0.97387413 0.95079972 0.88625619 0.27560733]\n",
      "  [0.95884168 0.5912912  0.59253316 0.10375391 0.96947028]]]\n"
     ]
    }
   ],
   "source": [
    "# your code here\n",
    "print(a)"
   ]
  },
  {
   "cell_type": "markdown",
   "metadata": {},
   "source": [
    "#### 5. Create a 5x2x3 3-dimensional array with all values equaling 1. Assign the array to variable *b*."
   ]
  },
  {
   "cell_type": "code",
   "execution_count": 17,
   "metadata": {},
   "outputs": [
    {
     "data": {
      "text/plain": [
       "array([[[1, 1, 1],\n",
       "        [1, 1, 1]],\n",
       "\n",
       "       [[1, 1, 1],\n",
       "        [1, 1, 1]],\n",
       "\n",
       "       [[1, 1, 1],\n",
       "        [1, 1, 1]],\n",
       "\n",
       "       [[1, 1, 1],\n",
       "        [1, 1, 1]],\n",
       "\n",
       "       [[1, 1, 1],\n",
       "        [1, 1, 1]]])"
      ]
     },
     "execution_count": 17,
     "metadata": {},
     "output_type": "execute_result"
    }
   ],
   "source": [
    "# your code here\n",
    "b = np.ones(shape=(5,2,3), dtype=int)\n",
    "b"
   ]
  },
  {
   "cell_type": "markdown",
   "metadata": {},
   "source": [
    "#### 6. Print *b*.\n"
   ]
  },
  {
   "cell_type": "code",
   "execution_count": 18,
   "metadata": {},
   "outputs": [
    {
     "name": "stdout",
     "output_type": "stream",
     "text": [
      "[[[1 1 1]\n",
      "  [1 1 1]]\n",
      "\n",
      " [[1 1 1]\n",
      "  [1 1 1]]\n",
      "\n",
      " [[1 1 1]\n",
      "  [1 1 1]]\n",
      "\n",
      " [[1 1 1]\n",
      "  [1 1 1]]\n",
      "\n",
      " [[1 1 1]\n",
      "  [1 1 1]]]\n"
     ]
    }
   ],
   "source": [
    "# your code here\n",
    "print(b)"
   ]
  },
  {
   "cell_type": "markdown",
   "metadata": {},
   "source": [
    "#### 7. Do *a* and *b* have the same size? How do you prove that in Python code?"
   ]
  },
  {
   "cell_type": "code",
   "execution_count": 22,
   "metadata": {},
   "outputs": [
    {
     "data": {
      "text/plain": [
       "False"
      ]
     },
     "execution_count": 22,
     "metadata": {},
     "output_type": "execute_result"
    }
   ],
   "source": [
    "# your code here\n",
    "a.shape == b.shape"
   ]
  },
  {
   "cell_type": "markdown",
   "metadata": {},
   "source": [
    "#### 8. Are you able to add *a* and *b*? Why or why not?\n"
   ]
  },
  {
   "cell_type": "code",
   "execution_count": null,
   "metadata": {},
   "outputs": [],
   "source": [
    "# your answer here\n",
    "\n",
    "# With the original shape a and b have now, it is not possible to add one to the other. \n",
    "# It can be possible if we reshape one of them, so they match the shape."
   ]
  },
  {
   "cell_type": "markdown",
   "metadata": {},
   "source": [
    "#### 9. Transpose *b* so that it has the same structure of *a* (i.e. become a 2x3x5 array). Assign the transposed array to variable *c*."
   ]
  },
  {
   "cell_type": "code",
   "execution_count": 23,
   "metadata": {},
   "outputs": [
    {
     "data": {
      "text/plain": [
       "array([[[1, 1, 1, 1, 1],\n",
       "        [1, 1, 1, 1, 1],\n",
       "        [1, 1, 1, 1, 1]],\n",
       "\n",
       "       [[1, 1, 1, 1, 1],\n",
       "        [1, 1, 1, 1, 1],\n",
       "        [1, 1, 1, 1, 1]]])"
      ]
     },
     "execution_count": 23,
     "metadata": {},
     "output_type": "execute_result"
    }
   ],
   "source": [
    "# your code here\n",
    "c = b.reshape(2,3,5)\n",
    "c\n"
   ]
  },
  {
   "cell_type": "markdown",
   "metadata": {},
   "source": [
    "#### 10. Try to add *a* and *c*. Now it should work. Assign the sum to variable *d*. But why does it work now?"
   ]
  },
  {
   "cell_type": "code",
   "execution_count": 24,
   "metadata": {},
   "outputs": [
    {
     "data": {
      "text/plain": [
       "array([[[1.28116064, 1.81020849, 1.6678058 , 1.4901688 , 1.88109909],\n",
       "        [1.73521561, 1.44114682, 1.9116241 , 1.05914448, 1.90301387],\n",
       "        [1.47387656, 1.36161979, 1.35716125, 1.04269473, 1.583833  ]],\n",
       "\n",
       "       [[1.0609455 , 1.0121095 , 1.98038992, 1.28153741, 1.900587  ],\n",
       "        [1.16169308, 1.97387413, 1.95079972, 1.88625619, 1.27560733],\n",
       "        [1.95884168, 1.5912912 , 1.59253316, 1.10375391, 1.96947028]]])"
      ]
     },
     "execution_count": 24,
     "metadata": {},
     "output_type": "execute_result"
    }
   ],
   "source": [
    "# your code/answer here\n",
    "\n",
    "d = a + c\n",
    "d\n",
    "\n",
    "# It works now because they have the same shape : 2 subgroups, each one with 3 rows and 5 columns. "
   ]
  },
  {
   "cell_type": "markdown",
   "metadata": {},
   "source": [
    "#### 11. Print *a* and *d*. Notice the difference and relation of the two array in terms of the values? Explain."
   ]
  },
  {
   "cell_type": "code",
   "execution_count": 25,
   "metadata": {},
   "outputs": [
    {
     "name": "stdout",
     "output_type": "stream",
     "text": [
      "[[[0.28116064 0.81020849 0.6678058  0.4901688  0.88109909]\n",
      "  [0.73521561 0.44114682 0.9116241  0.05914448 0.90301387]\n",
      "  [0.47387656 0.36161979 0.35716125 0.04269473 0.583833  ]]\n",
      "\n",
      " [[0.0609455  0.0121095  0.98038992 0.28153741 0.900587  ]\n",
      "  [0.16169308 0.97387413 0.95079972 0.88625619 0.27560733]\n",
      "  [0.95884168 0.5912912  0.59253316 0.10375391 0.96947028]]]\n",
      "[[[1.28116064 1.81020849 1.6678058  1.4901688  1.88109909]\n",
      "  [1.73521561 1.44114682 1.9116241  1.05914448 1.90301387]\n",
      "  [1.47387656 1.36161979 1.35716125 1.04269473 1.583833  ]]\n",
      "\n",
      " [[1.0609455  1.0121095  1.98038992 1.28153741 1.900587  ]\n",
      "  [1.16169308 1.97387413 1.95079972 1.88625619 1.27560733]\n",
      "  [1.95884168 1.5912912  1.59253316 1.10375391 1.96947028]]]\n"
     ]
    }
   ],
   "source": [
    "# your code/answer here\n",
    "print(a)\n",
    "print(d)\n",
    "\n",
    "# d is exactly the previous array, but with its values + 1 : what we did on the previous cell"
   ]
  },
  {
   "cell_type": "markdown",
   "metadata": {},
   "source": [
    "#### 12. Multiply *a* and *c*. Assign the result to *e*."
   ]
  },
  {
   "cell_type": "code",
   "execution_count": 27,
   "metadata": {},
   "outputs": [
    {
     "data": {
      "text/plain": [
       "array([[[0.28116064, 0.81020849, 0.6678058 , 0.4901688 , 0.88109909],\n",
       "        [0.73521561, 0.44114682, 0.9116241 , 0.05914448, 0.90301387],\n",
       "        [0.47387656, 0.36161979, 0.35716125, 0.04269473, 0.583833  ]],\n",
       "\n",
       "       [[0.0609455 , 0.0121095 , 0.98038992, 0.28153741, 0.900587  ],\n",
       "        [0.16169308, 0.97387413, 0.95079972, 0.88625619, 0.27560733],\n",
       "        [0.95884168, 0.5912912 , 0.59253316, 0.10375391, 0.96947028]]])"
      ]
     },
     "execution_count": 27,
     "metadata": {},
     "output_type": "execute_result"
    }
   ],
   "source": [
    "# your code here\n",
    "e = a * c\n",
    "e"
   ]
  },
  {
   "cell_type": "markdown",
   "metadata": {},
   "source": [
    "#### 13. Does *e* equal to *a*? Why or why not?\n"
   ]
  },
  {
   "cell_type": "code",
   "execution_count": 28,
   "metadata": {},
   "outputs": [
    {
     "data": {
      "text/plain": [
       "array([[[ True,  True,  True,  True,  True],\n",
       "        [ True,  True,  True,  True,  True],\n",
       "        [ True,  True,  True,  True,  True]],\n",
       "\n",
       "       [[ True,  True,  True,  True,  True],\n",
       "        [ True,  True,  True,  True,  True],\n",
       "        [ True,  True,  True,  True,  True]]])"
      ]
     },
     "execution_count": 28,
     "metadata": {},
     "output_type": "execute_result"
    }
   ],
   "source": [
    "# your code/answer here\n",
    "\n",
    "a == e\n",
    "\n",
    "#  c is an array of 1 values. Multiplying by c will generate the same result as before, the original a array. "
   ]
  },
  {
   "cell_type": "markdown",
   "metadata": {},
   "source": [
    "#### 14. Identify the max, min, and mean values in *d*. Assign those values to variables *d_max*, *d_min* and *d_mean*."
   ]
  },
  {
   "cell_type": "code",
   "execution_count": 29,
   "metadata": {},
   "outputs": [
    {
     "name": "stdout",
     "output_type": "stream",
     "text": [
      "1.9803899175575728\n",
      "1.0121094953782057\n",
      "1.5566487675622727\n"
     ]
    }
   ],
   "source": [
    "# your code here\n",
    "\n",
    "d_max = d.max()\n",
    "print(d_max)\n",
    "\n",
    "d_min = d.min()\n",
    "print(d_min)\n",
    "\n",
    "d_mean = d.mean()\n",
    "print(d_mean)"
   ]
  },
  {
   "cell_type": "markdown",
   "metadata": {},
   "source": [
    "#### 15. Now we want to label the values in *d*. First create an empty array *f* with the same shape (i.e. 2x3x5) as *d* using `np.empty`.\n"
   ]
  },
  {
   "cell_type": "code",
   "execution_count": 30,
   "metadata": {},
   "outputs": [
    {
     "data": {
      "text/plain": [
       "array([[[0.28116064, 0.81020849, 0.6678058 , 0.4901688 , 0.88109909],\n",
       "        [0.73521561, 0.44114682, 0.9116241 , 0.05914448, 0.90301387],\n",
       "        [0.47387656, 0.36161979, 0.35716125, 0.04269473, 0.583833  ]],\n",
       "\n",
       "       [[0.0609455 , 0.0121095 , 0.98038992, 0.28153741, 0.900587  ],\n",
       "        [0.16169308, 0.97387413, 0.95079972, 0.88625619, 0.27560733],\n",
       "        [0.95884168, 0.5912912 , 0.59253316, 0.10375391, 0.96947028]]])"
      ]
     },
     "execution_count": 30,
     "metadata": {},
     "output_type": "execute_result"
    }
   ],
   "source": [
    "# your code here\n",
    "\n",
    "f = np.empty(shape=(2,3,5))\n",
    "f"
   ]
  },
  {
   "cell_type": "markdown",
   "metadata": {},
   "source": [
    "#### 16. Populate the values in *f*. \n",
    "\n",
    "For each value in *d*, if it's larger than *d_min* but smaller than *d_mean*, assign 25 to the corresponding value in *f*. If a value in *d* is larger than *d_mean* but smaller than *d_max*, assign 75 to the corresponding value in *f*. If a value equals to *d_mean*, assign 50 to the corresponding value in *f*. Assign 0 to the corresponding value(s) in *f* for *d_min* in *d*. Assign 100 to the corresponding value(s) in *f* for *d_max* in *d*. In the end, f should have only the following values: 0, 25, 50, 75, and 100.\n",
    "\n",
    "**Note**: you don't have to use Numpy in this question."
   ]
  },
  {
   "cell_type": "code",
   "execution_count": 31,
   "metadata": {},
   "outputs": [
    {
     "data": {
      "text/plain": [
       "array([[[2.50000000e+01, 7.50000000e+01, 7.50000000e+01, 2.50000000e+01,\n",
       "         7.50000000e+01],\n",
       "        [7.50000000e+01, 2.50000000e+01, 7.50000000e+01, 2.50000000e+01,\n",
       "         7.50000000e+01],\n",
       "        [2.50000000e+01, 2.50000000e+01, 2.50000000e+01, 2.50000000e+01,\n",
       "         7.50000000e+01]],\n",
       "\n",
       "       [[2.50000000e+01, 1.21094954e-02, 9.80389918e-01, 2.50000000e+01,\n",
       "         7.50000000e+01],\n",
       "        [2.50000000e+01, 7.50000000e+01, 7.50000000e+01, 7.50000000e+01,\n",
       "         2.50000000e+01],\n",
       "        [7.50000000e+01, 7.50000000e+01, 7.50000000e+01, 2.50000000e+01,\n",
       "         7.50000000e+01]]])"
      ]
     },
     "execution_count": 31,
     "metadata": {},
     "output_type": "execute_result"
    }
   ],
   "source": [
    "# your code here\n",
    "f[(d > d_min) & (d < d_mean)] = 25\n",
    "f[(d > d_mean) & (d < d_max)] = 75\n",
    "f[(d == d.mean)] = 50\n",
    "f[(d == d.min)] = 0\n",
    "f[(d == d.max)] = 100\n",
    "f"
   ]
  },
  {
   "cell_type": "markdown",
   "metadata": {},
   "source": [
    "#### 17. Print *d* and *f*. Do you have your expected *f*?\n",
    "For instance, if your *d* is:\n",
    "```python\n",
    "[[[1.85836099, 1.67064465, 1.62576044, 1.40243961, 1.88454931],\n",
    "[1.75354326, 1.69403643, 1.36729252, 1.61415071, 1.12104981],\n",
    "[1.72201435, 1.1862918 , 1.87078449, 1.7726778 , 1.88180042]],\n",
    "[[1.44747908, 1.31673383, 1.02000951, 1.52218947, 1.97066381],\n",
    "[1.79129243, 1.74983003, 1.96028037, 1.85166831, 1.65450881],\n",
    "[1.18068344, 1.9587381 , 1.00656599, 1.93402165, 1.73514584]]]\n",
    "```\n",
    "Your *f* should be:\n",
    "```python\n",
    "[[[ 75.,  75.,  75.,  25.,  75.],\n",
    "[ 75.,  75.,  25.,  25.,  25.],\n",
    "[ 75.,  25.,  75.,  75.,  75.]],\n",
    "[[ 25.,  25.,  25.,  25., 100.],\n",
    "[ 75.,  75.,  75.,  75.,  75.],\n",
    "[ 25.,  75.,   0.,  75.,  75.]]]\n",
    "```"
   ]
  },
  {
   "cell_type": "code",
   "execution_count": 32,
   "metadata": {},
   "outputs": [
    {
     "name": "stdout",
     "output_type": "stream",
     "text": [
      "[[[1.28116064 1.81020849 1.6678058  1.4901688  1.88109909]\n",
      "  [1.73521561 1.44114682 1.9116241  1.05914448 1.90301387]\n",
      "  [1.47387656 1.36161979 1.35716125 1.04269473 1.583833  ]]\n",
      "\n",
      " [[1.0609455  1.0121095  1.98038992 1.28153741 1.900587  ]\n",
      "  [1.16169308 1.97387413 1.95079972 1.88625619 1.27560733]\n",
      "  [1.95884168 1.5912912  1.59253316 1.10375391 1.96947028]]]\n",
      "[[[2.50000000e+01 7.50000000e+01 7.50000000e+01 2.50000000e+01\n",
      "   7.50000000e+01]\n",
      "  [7.50000000e+01 2.50000000e+01 7.50000000e+01 2.50000000e+01\n",
      "   7.50000000e+01]\n",
      "  [2.50000000e+01 2.50000000e+01 2.50000000e+01 2.50000000e+01\n",
      "   7.50000000e+01]]\n",
      "\n",
      " [[2.50000000e+01 1.21094954e-02 9.80389918e-01 2.50000000e+01\n",
      "   7.50000000e+01]\n",
      "  [2.50000000e+01 7.50000000e+01 7.50000000e+01 7.50000000e+01\n",
      "   2.50000000e+01]\n",
      "  [7.50000000e+01 7.50000000e+01 7.50000000e+01 2.50000000e+01\n",
      "   7.50000000e+01]]]\n"
     ]
    }
   ],
   "source": [
    "# your code here\n",
    "print(d)\n",
    "print(f)"
   ]
  },
  {
   "cell_type": "markdown",
   "metadata": {},
   "source": [
    "#### 18. Bonus question: instead of using numbers (i.e. 0, 25, 50, 75, and 100), use string values  (\"A\", \"B\", \"C\", \"D\", and \"E\") to label the array elements. For the example above, the expected result is:\n",
    "\n",
    "```python\n",
    "[[[ 'D',  'D',  'D',  'B',  'D'],\n",
    "[ 'D',  'D',  'B',  'B',  'B'],\n",
    "[ 'D',  'B',  'D',  'D',  'D']],\n",
    "[[ 'B',  'B',  'B',  'B',  'E'],\n",
    "[ 'D',  'D',  'D',  'D',  'D'],\n",
    "[ 'B',  'D',   'A',  'D', 'D']]]\n",
    "```\n",
    "**Note**: you don't have to use Numpy in this question."
   ]
  },
  {
   "cell_type": "code",
   "execution_count": null,
   "metadata": {},
   "outputs": [],
   "source": [
    "# your code here"
   ]
  }
 ],
 "metadata": {
  "kernelspec": {
   "display_name": "Python 3.9.12 ('base')",
   "language": "python",
   "name": "python3"
  },
  "language_info": {
   "codemirror_mode": {
    "name": "ipython",
    "version": 3
   },
   "file_extension": ".py",
   "mimetype": "text/x-python",
   "name": "python",
   "nbconvert_exporter": "python",
   "pygments_lexer": "ipython3",
   "version": "3.9.12"
  },
  "vscode": {
   "interpreter": {
    "hash": "b8fb7e02fae851c316a47e91ef8561346320729f8430ec0fc4935b51da4e1c6f"
   }
  }
 },
 "nbformat": 4,
 "nbformat_minor": 2
}
